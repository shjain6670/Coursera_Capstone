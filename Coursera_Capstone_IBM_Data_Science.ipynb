{
  "nbformat": 4,
  "nbformat_minor": 0,
  "metadata": {
    "colab": {
      "name": "Coursera Capstone IBM Data Science.ipynb",
      "provenance": [],
      "authorship_tag": "ABX9TyPT4utRsHZ/oyOv7FYrUmD8",
      "include_colab_link": true
    },
    "kernelspec": {
      "name": "python3",
      "display_name": "Python 3"
    }
  },
  "cells": [
    {
      "cell_type": "markdown",
      "metadata": {
        "id": "view-in-github",
        "colab_type": "text"
      },
      "source": [
        "<a href=\"https://colab.research.google.com/github/shjain6670/Coursera_Capstone/blob/master/Coursera_Capstone_IBM_Data_Science.ipynb\" target=\"_parent\"><img src=\"https://colab.research.google.com/assets/colab-badge.svg\" alt=\"Open In Colab\"/></a>"
      ]
    },
    {
      "cell_type": "markdown",
      "metadata": {
        "id": "6Ts8lHz9GULG",
        "colab_type": "text"
      },
      "source": [
        "# <B><U>Coursera Capstone Project</U></B>\n",
        "This IPYNB file will be mainly used for <i>IBM Applied Data Science Specialization's</i> 4th course: <u>Applied Data Science Capstone Project</u>."
      ]
    },
    {
      "cell_type": "code",
      "metadata": {
        "id": "8A_PW89KF90t",
        "colab_type": "code",
        "colab": {}
      },
      "source": [
        "import numpy as np\n",
        "import pandas as pd"
      ],
      "execution_count": 0,
      "outputs": []
    },
    {
      "cell_type": "code",
      "metadata": {
        "id": "84StHoIAGNOX",
        "colab_type": "code",
        "colab": {
          "base_uri": "https://localhost:8080/",
          "height": 34
        },
        "outputId": "ef910302-eb12-4d7e-cb0c-a81627a4e887"
      },
      "source": [
        "print(\"Hello Capstone Course\")"
      ],
      "execution_count": 2,
      "outputs": [
        {
          "output_type": "stream",
          "text": [
            "Hello Capstone Course\n"
          ],
          "name": "stdout"
        }
      ]
    },
    {
      "cell_type": "code",
      "metadata": {
        "id": "REZcu9mZHZvf",
        "colab_type": "code",
        "colab": {}
      },
      "source": [
        ""
      ],
      "execution_count": 0,
      "outputs": []
    }
  ]
}